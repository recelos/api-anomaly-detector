{
 "cells": [
  {
   "cell_type": "markdown",
   "metadata": {},
   "source": [
    "# Twitch explicit language detection using traditional models and graph neural network models "
   ]
  },
  {
   "cell_type": "markdown",
   "metadata": {},
   "source": [
    "### Import modules"
   ]
  },
  {
   "cell_type": "code",
   "execution_count": null,
   "metadata": {},
   "outputs": [],
   "source": [
    "import torch\n",
    "from torch_geometric.data import Data\n",
    "from torch_geometric.nn import GCNConv\n",
    "import torch.nn.functional as F\n",
    "import torch.optim as optim\n",
    "from torch_geometric.data import Data\n",
    "from sklearn.ensemble import RandomForestClassifier\n",
    "from sklearn.preprocessing import LabelEncoder, StandardScaler\n",
    "from sklearn.model_selection import train_test_split\n",
    "from sklearn.metrics import classification_report, confusion_matrix\n",
    "from sklearn.model_selection import train_test_split, GridSearchCV\n",
    "import matplotlib.pyplot as plt\n",
    "from torch import nn\n",
    "import json\n",
    "import pandas as pd\n",
    "from sklearn.model_selection import train_test_split, GridSearchCV\n",
    "from sklearn.preprocessing import LabelEncoder, StandardScaler\n",
    "from sklearn.metrics import classification_report, confusion_matrix, accuracy_score\n",
    "import xgboost as xgb"
   ]
  },
  {
   "cell_type": "markdown",
   "metadata": {},
   "source": [
    "### Define Random Forest classifier"
   ]
  },
  {
   "cell_type": "code",
   "execution_count": null,
   "metadata": {},
   "outputs": [],
   "source": [
    "data_path = 'data'\n",
    "\n",
    "# Load and preprocess data\n",
    "df = pd.read_csv(f'{data_path}/ENGB/ENGB_target.csv')\n",
    "df['partner'] = LabelEncoder().fit_transform(df['partner'])\n",
    "df[['days', 'views']] = StandardScaler().fit_transform(df[['days', 'views']])\n",
    "X = df[['days', 'views', 'partner']]\n",
    "y = df['mature']\n",
    "\n",
    "# Train-test split\n",
    "X_train, X_test, y_train, y_test = train_test_split(X, y, test_size=0.3, random_state=142)\n",
    "\n",
    "# Model: RandomForest Classifier with GridSearch for hyperparameter tuning\n",
    "param_grid = {\n",
    "    'n_estimators': [100, 200, 300],\n",
    "    'max_features': ['auto', 'sqrt', 'log2'],\n",
    "    'max_depth' : [4,5,6,7,8],\n",
    "    'criterion' :['gini', 'entropy']\n",
    "}\n",
    "CV_rfc = GridSearchCV(estimator=RandomForestClassifier(random_state=42), param_grid=param_grid, cv=5)\n",
    "CV_rfc.fit(X_train, y_train)\n",
    "print(\"Best parameters:\", CV_rfc.best_params_)\n",
    "\n",
    "# Evaluate the model\n",
    "y_pred = CV_rfc.predict(X_test)\n",
    "print(classification_report(y_test, y_pred))\n",
    "print(confusion_matrix(y_test, y_pred))\n",
    "\n",
    "# Feature importances\n",
    "importances = CV_rfc.best_estimator_.feature_importances_\n",
    "feature_names = X.columns\n",
    "feature_importances = sorted(zip(importances, feature_names), reverse=True)\n",
    "print(\"Feature importances:\")\n",
    "for importance, name in feature_importances:\n",
    "    print(f\"{name}: {importance}\")\n"
   ]
  },
  {
   "cell_type": "code",
   "execution_count": null,
   "metadata": {},
   "outputs": [],
   "source": [
    "rf_accuracy = accuracy_score(y_test, y_pred)\n",
    "print(f\"Accuracy: {rf_accuracy}\")"
   ]
  },
  {
   "cell_type": "markdown",
   "metadata": {},
   "source": [
    "### Define Gradient boost classifier"
   ]
  },
  {
   "cell_type": "code",
   "execution_count": null,
   "metadata": {},
   "outputs": [],
   "source": [
    "df = pd.read_csv(f'{data_path}/ENGB/ENGB_target.csv')\n",
    "df['partner'] = LabelEncoder().fit_transform(df['partner'])\n",
    "df[['days', 'views']] = StandardScaler().fit_transform(df[['days', 'views']])\n",
    "X = df[['days', 'views', 'partner']]\n",
    "y = df['mature']\n",
    "\n",
    "X_train, X_test, y_train, y_test = train_test_split(X, y, test_size=0.3, random_state=142)\n",
    "\n",
    "xgb_model = xgb.XGBClassifier(use_label_encoder=False, eval_metric='logloss')\n",
    "xgb_model.fit(X_train, y_train)\n",
    "\n",
    "y_pred = xgb_model.predict(X_test)\n",
    "print(classification_report(y_test, y_pred))\n",
    "print(confusion_matrix(y_test, y_pred))\n",
    "\n",
    "print(\"Feature Importances:\")\n",
    "for feature, importance in zip(X.columns, xgb_model.feature_importances_):\n",
    "    print(f'{feature}: {importance:.4f}')\n",
    "\n",
    "param_grid = {\n",
    "    'n_estimators': [50, 100, 150],\n",
    "    'learning_rate': [0.01, 0.1, 0.3],\n",
    "    'max_depth': [3, 4, 5],\n",
    "    'subsample': [0.8, 0.9, 1],\n",
    "    'colsample_bytree': [0.8, 0.9, 1],\n",
    "}\n",
    "\n",
    "grid_search = GridSearchCV(xgb.XGBClassifier(use_label_encoder=False, eval_metric='logloss'),\n",
    "                           param_grid, \n",
    "                           cv=3, \n",
    "                           verbose=2,\n",
    "                           n_jobs=-1)\n",
    "grid_search.fit(X_train, y_train)\n",
    "\n",
    "print(\"Best parameters:\", grid_search.best_params_)\n",
    "\n",
    "best_model = grid_search.best_estimator_\n",
    "y_pred = best_model.predict(X_test)\n",
    "print(classification_report(y_test, y_pred))\n",
    "\n",
    "confusion_matrix = confusion_matrix(y_test, y_pred)\n",
    "print(classification_report)\n",
    "print(confusion_matrix)\n",
    "\n",
    "cls_report = classification_report(y_test, y_pred, output_dict=True)\n",
    "xgb_accuracy = accuracy_score(y_test, y_pred)\n",
    "print(f\"accuracy: {xgb_accuracy}\")\n"
   ]
  },
  {
   "cell_type": "markdown",
   "metadata": {},
   "source": [
    "## GCN model"
   ]
  },
  {
   "cell_type": "markdown",
   "metadata": {},
   "source": [
    "## Load data"
   ]
  },
  {
   "cell_type": "code",
   "execution_count": null,
   "metadata": {},
   "outputs": [],
   "source": [
    "def load_data():\n",
    "    data_edges = pd.read_csv(data_path + '/ENGB/ENGB_edges.csv')\n",
    "    data_target = pd.read_csv(data_path + '/ENGB/ENGB_target.csv')\n",
    "    with open(data_path + '/ENGB/ENGB_features.json') as f:\n",
    "        node_features_json = json.load(f)\n",
    "    node_features_df = pd.DataFrame.from_dict(node_features_json, orient='index')\n",
    "    node_features_df.index.name = 'id'\n",
    "    node_features_df.reset_index(inplace=True)\n",
    "    return data_edges, data_target, node_features_df"
   ]
  },
  {
   "cell_type": "markdown",
   "metadata": {},
   "source": [
    "### Preprocessing"
   ]
  },
  {
   "cell_type": "code",
   "execution_count": null,
   "metadata": {},
   "outputs": [],
   "source": [
    "def preprocess_data(data_target, data_edges, node_features_df):\n",
    "    data_target = data_target.drop(columns=['id'])\n",
    "    data_target = data_target.rename(columns={'new_id': 'id'})\n",
    "    data_edges = data_edges.rename(columns={'from': 'from_id', 'to': 'to_id'})\n",
    "    data_target['mature'] = data_target['mature'].astype(int)\n",
    "    data_target['partner'] = data_target['partner'].astype(int)\n",
    "    data_target['days'] = (data_target['days'] - data_target['days'].min()) / (data_target['days'].max() - data_target['days'].min())\n",
    "    data_target['views'] = (data_target['views'] - data_target['views'].min()) / (data_target['views'].max() - data_target['views'].min())\n",
    "    node_features = torch.tensor(data_target.drop(columns=['id']).values, dtype=torch.float)\n",
    "    data_target['id'] = data_target['id'].astype('int64')\n",
    "    node_features_df['id'] = node_features_df['id'].astype('int64')\n",
    "    data_target = pd.merge(data_target, node_features_df, on='id')\n",
    "    data_target = data_target.fillna(0)\n",
    "    return data_target, data_edges, node_features\n",
    "\n",
    "def prepare_data(data_target, data_edges, node_features):\n",
    "    edge_index = torch.tensor(data_edges.values, dtype=torch.long).t().contiguous()\n",
    "    edge_index = torch.cat([edge_index, edge_index[[1, 0]]], dim=1)\n",
    "    node_ids = data_target['id']\n",
    "    node_to_idx = {node_id: idx for idx, node_id in enumerate(node_ids)}\n",
    "    labels = torch.tensor(data_target['mature'].values, dtype=torch.long)\n",
    "    x = torch.eye(len(node_ids))\n",
    "    train_indices, test_indices = train_test_split(range(len(node_ids)), test_size=0.20, stratify=labels)\n",
    "    train_mask = torch.zeros(len(node_ids), dtype=torch.bool).scatter_(0, torch.tensor(train_indices), True)\n",
    "    test_mask = torch.zeros(len(node_ids), dtype=torch.bool).scatter_(0, torch.tensor(test_indices), True)\n",
    "    data = Data(x=node_features, edge_index=edge_index, y=labels, train_mask=train_mask, test_mask=test_mask)\n",
    "    return data"
   ]
  },
  {
   "cell_type": "markdown",
   "metadata": {},
   "source": [
    "### Define the model"
   ]
  },
  {
   "cell_type": "code",
   "execution_count": null,
   "metadata": {},
   "outputs": [],
   "source": [
    "class GCN(nn.Module):\n",
    "    def __init__(self, node_features):\n",
    "        super(GCN, self).__init__()\n",
    "        self.conv1 = GCNConv(node_features.shape[1], 32)\n",
    "        self.conv2 = GCNConv(32, 2)\n",
    "\n",
    "    def forward(self, data):\n",
    "        x, edge_index = data.x, data.edge_index\n",
    "        x = F.relu(self.conv1(x, edge_index))\n",
    "        x = F.dropout(x, training=self.training)\n",
    "        x = self.conv2(x, edge_index)\n",
    "        return F.log_softmax(x, dim=1)"
   ]
  },
  {
   "cell_type": "markdown",
   "metadata": {},
   "source": [
    "### Train the model"
   ]
  },
  {
   "cell_type": "code",
   "execution_count": null,
   "metadata": {},
   "outputs": [],
   "source": [
    "def train(model, data, optimizer, criterion):\n",
    "    model.train()\n",
    "    optimizer.zero_grad()\n",
    "    out = model(data)\n",
    "    loss = criterion(out[data.train_mask], data.y[data.train_mask])\n",
    "    loss.backward()\n",
    "    optimizer.step()\n",
    "    return loss.item()"
   ]
  },
  {
   "cell_type": "markdown",
   "metadata": {},
   "source": [
    "### Validate"
   ]
  },
  {
   "cell_type": "code",
   "execution_count": null,
   "metadata": {},
   "outputs": [],
   "source": [
    "def test(model, data):\n",
    "    model.eval()\n",
    "    out = model(data)\n",
    "    pred = out.argmax(dim=1)\n",
    "    correct = (pred[data.test_mask] == data.y[data.test_mask]).sum().item()\n",
    "    accuracy = correct / int(data.test_mask.sum())\n",
    "    return accuracy"
   ]
  },
  {
   "cell_type": "markdown",
   "metadata": {},
   "source": [
    "### Plots"
   ]
  },
  {
   "cell_type": "code",
   "execution_count": null,
   "metadata": {},
   "outputs": [],
   "source": [
    "def plot_results(loss_values, gcn_acc, rf_acc, xgb_acc):\n",
    "    # Plotting\n",
    "    plt.figure(figsize=(12, 6))\n",
    "    plt.subplot(1, 2, 1)\n",
    "    plt.plot(loss_values, label='Train Loss')\n",
    "    plt.xlabel('Epochs')\n",
    "    plt.ylabel('Loss')\n",
    "    plt.title('Loss over time')\n",
    "    plt.legend()\n",
    "\n",
    "    plt.subplot(1, 2, 2)\n",
    "    plt.plot(gcn_acc, label='Graph Convolutional Neural Network Test Accuracy')\n",
    "    plt.axhline(y=rf_acc, color='green', linestyle='--', label='Random Forest Test Accuracy')\n",
    "    plt.axhline(y=xgb_acc, color='red', linestyle='--', label='Gradient Boost Test Accuracy')\n",
    "    plt.xlabel('Epochs')\n",
    "    plt.ylabel('Accuracy')\n",
    "    plt.title('Accuracy over time')\n",
    "    plt.legend()\n",
    "\n",
    "    plt.tight_layout()\n",
    "    plt.show()"
   ]
  },
  {
   "cell_type": "markdown",
   "metadata": {},
   "source": [
    "### Main"
   ]
  },
  {
   "cell_type": "code",
   "execution_count": null,
   "metadata": {},
   "outputs": [],
   "source": [
    "accuracy_values = []\n",
    "loss_values = []\n",
    "def main():\n",
    "    data_edges, data_target, node_features_df = load_data()\n",
    "    data_target, data_edges, node_features = preprocess_data(data_target, data_edges, node_features_df)\n",
    "    data = prepare_data(data_target, data_edges, node_features)\n",
    "    device = torch.device(\"cuda\" if torch.cuda.is_available() else \"cpu\")\n",
    "    model = GCN(node_features).to(device)\n",
    "    data = data.to(device)\n",
    "    optimizer = optim.Adam(model.parameters(), lr=0.01)\n",
    "    criterion = nn.CrossEntropyLoss() \n",
    "    epochs = 2000\n",
    "    for epoch in range(epochs):\n",
    "        loss = train(model, data, optimizer, criterion)\n",
    "        acc = test(model, data)\n",
    "        loss_values.append(loss)\n",
    "        accuracy_values.append(acc)\n",
    "        print(f'Epoch: {epoch + 1:03d}, Loss: {loss:.4f}, Acc: {acc:.4f}')\n",
    "\n",
    "\n",
    "main()"
   ]
  },
  {
   "cell_type": "markdown",
   "metadata": {},
   "source": [
    "### Plot accuracies"
   ]
  },
  {
   "cell_type": "code",
   "execution_count": null,
   "metadata": {},
   "outputs": [],
   "source": [
    "plot_results(loss_values, accuracy_values, rf_accuracy, xgb_accuracy)"
   ]
  }
 ],
 "metadata": {
  "kernelspec": {
   "display_name": "venv",
   "language": "python",
   "name": "python3"
  },
  "language_info": {
   "codemirror_mode": {
    "name": "ipython",
    "version": 3
   },
   "file_extension": ".py",
   "mimetype": "text/x-python",
   "name": "python",
   "nbconvert_exporter": "python",
   "pygments_lexer": "ipython3",
   "version": "3.10.11"
  }
 },
 "nbformat": 4,
 "nbformat_minor": 2
}
